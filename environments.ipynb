{
 "cells": [
  {
   "cell_type": "code",
   "execution_count": 3,
   "metadata": {
    "collapsed": false
   },
   "outputs": [
    {
     "name": "stderr",
     "output_type": "stream",
     "text": [
      "[2017-03-29 18:38:05,384] Making new env: Acrobot-v1\n"
     ]
    },
    {
     "name": "stdout",
     "output_type": "stream",
     "text": [
      "Discrete(3)\n",
      "Box(6,)\n",
      "[  1.           1.           1.           1.          12.56637061\n",
      "  28.27433388]\n",
      "[ -1.          -1.          -1.          -1.         -12.56637061\n",
      " -28.27433388]\n"
     ]
    }
   ],
   "source": [
    "import gym\n",
    "env = gym.make(\"Acrobot-v1\")\n",
    "print(env.action_space)\n",
    "print(env.observation_space)\n",
    "print(env.observation_space.high)\n",
    "print(env.observation_space.low)"
   ]
  },
  {
   "cell_type": "code",
   "execution_count": 5,
   "metadata": {
    "collapsed": false
   },
   "outputs": [
    {
     "name": "stderr",
     "output_type": "stream",
     "text": [
      "[2017-03-29 18:39:21,374] Making new env: MountainCar-v0\n"
     ]
    },
    {
     "name": "stdout",
     "output_type": "stream",
     "text": [
      "Discrete(3)\n",
      "Box(2,)\n",
      "[ 0.6   0.07]\n",
      "[-1.2  -0.07]\n"
     ]
    }
   ],
   "source": [
    "env = gym.make(\"MountainCar-v0\")\n",
    "print(env.action_space)\n",
    "print(env.observation_space)\n",
    "print(env.observation_space.high)\n",
    "print(env.observation_space.low)"
   ]
  },
  {
   "cell_type": "code",
   "execution_count": 7,
   "metadata": {
    "collapsed": false
   },
   "outputs": [
    {
     "name": "stderr",
     "output_type": "stream",
     "text": [
      "[2017-03-29 18:40:24,333] Making new env: MountainCarContinuous-v0\n"
     ]
    },
    {
     "name": "stdout",
     "output_type": "stream",
     "text": [
      "Box(1,)\n",
      "[ 1.]\n",
      "[-1.]\n",
      "Box(2,)\n",
      "[ 0.6   0.07]\n",
      "[-1.2  -0.07]\n"
     ]
    }
   ],
   "source": [
    "env = gym.make(\"MountainCarContinuous-v0\")\n",
    "print(env.action_space)\n",
    "print(env.action_space.high)\n",
    "print(env.action_space.low)\n",
    "print(env.observation_space)\n",
    "print(env.observation_space.high)\n",
    "print(env.observation_space.low)"
   ]
  },
  {
   "cell_type": "code",
   "execution_count": 9,
   "metadata": {
    "collapsed": false
   },
   "outputs": [
    {
     "name": "stderr",
     "output_type": "stream",
     "text": [
      "[2017-03-29 18:41:28,606] Making new env: Pendulum-v0\n"
     ]
    },
    {
     "name": "stdout",
     "output_type": "stream",
     "text": [
      "Box(1,)\n",
      "[ 2.]\n",
      "[-2.]\n",
      "Box(3,)\n",
      "[ 1.  1.  8.]\n",
      "[-1. -1. -8.]\n"
     ]
    }
   ],
   "source": [
    "env = gym.make(\"Pendulum-v0\")\n",
    "print(env.action_space)\n",
    "print(env.action_space.high)\n",
    "print(env.action_space.low)\n",
    "print(env.observation_space)\n",
    "print(env.observation_space.high)\n",
    "print(env.observation_space.low)"
   ]
  },
  {
   "cell_type": "code",
   "execution_count": 11,
   "metadata": {
    "collapsed": false
   },
   "outputs": [
    {
     "name": "stderr",
     "output_type": "stream",
     "text": [
      "[2017-03-29 18:43:13,978] Making new env: BipedalWalker-v2\n"
     ]
    },
    {
     "name": "stdout",
     "output_type": "stream",
     "text": [
      "Box(4,)\n",
      "[1 1 1 1]\n",
      "[-1 -1 -1 -1]\n",
      "Box(24,)\n",
      "[ inf  inf  inf  inf  inf  inf  inf  inf  inf  inf  inf  inf  inf  inf  inf\n",
      "  inf  inf  inf  inf  inf  inf  inf  inf  inf]\n",
      "[-inf -inf -inf -inf -inf -inf -inf -inf -inf -inf -inf -inf -inf -inf -inf\n",
      " -inf -inf -inf -inf -inf -inf -inf -inf -inf]\n"
     ]
    }
   ],
   "source": [
    "env = gym.make(\"BipedalWalker-v2\")\n",
    "print(env.action_space)\n",
    "print(env.action_space.high)\n",
    "print(env.action_space.low)\n",
    "print(env.observation_space)\n",
    "print(env.observation_space.high)\n",
    "print(env.observation_space.low)"
   ]
  },
  {
   "cell_type": "code",
   "execution_count": 12,
   "metadata": {
    "collapsed": false
   },
   "outputs": [
    {
     "name": "stderr",
     "output_type": "stream",
     "text": [
      "[2017-03-29 18:44:32,772] Making new env: CarRacing-v0\n"
     ]
    },
    {
     "name": "stdout",
     "output_type": "stream",
     "text": [
      "Box(3,)\n",
      "[1 1 1]\n",
      "[-1  0  0]\n",
      "Box(96, 96, 3)\n",
      "[[[ 255.  255.  255.]\n",
      "  [ 255.  255.  255.]\n",
      "  [ 255.  255.  255.]\n",
      "  ..., \n",
      "  [ 255.  255.  255.]\n",
      "  [ 255.  255.  255.]\n",
      "  [ 255.  255.  255.]]\n",
      "\n",
      " [[ 255.  255.  255.]\n",
      "  [ 255.  255.  255.]\n",
      "  [ 255.  255.  255.]\n",
      "  ..., \n",
      "  [ 255.  255.  255.]\n",
      "  [ 255.  255.  255.]\n",
      "  [ 255.  255.  255.]]\n",
      "\n",
      " [[ 255.  255.  255.]\n",
      "  [ 255.  255.  255.]\n",
      "  [ 255.  255.  255.]\n",
      "  ..., \n",
      "  [ 255.  255.  255.]\n",
      "  [ 255.  255.  255.]\n",
      "  [ 255.  255.  255.]]\n",
      "\n",
      " ..., \n",
      " [[ 255.  255.  255.]\n",
      "  [ 255.  255.  255.]\n",
      "  [ 255.  255.  255.]\n",
      "  ..., \n",
      "  [ 255.  255.  255.]\n",
      "  [ 255.  255.  255.]\n",
      "  [ 255.  255.  255.]]\n",
      "\n",
      " [[ 255.  255.  255.]\n",
      "  [ 255.  255.  255.]\n",
      "  [ 255.  255.  255.]\n",
      "  ..., \n",
      "  [ 255.  255.  255.]\n",
      "  [ 255.  255.  255.]\n",
      "  [ 255.  255.  255.]]\n",
      "\n",
      " [[ 255.  255.  255.]\n",
      "  [ 255.  255.  255.]\n",
      "  [ 255.  255.  255.]\n",
      "  ..., \n",
      "  [ 255.  255.  255.]\n",
      "  [ 255.  255.  255.]\n",
      "  [ 255.  255.  255.]]]\n",
      "[[[ 0.  0.  0.]\n",
      "  [ 0.  0.  0.]\n",
      "  [ 0.  0.  0.]\n",
      "  ..., \n",
      "  [ 0.  0.  0.]\n",
      "  [ 0.  0.  0.]\n",
      "  [ 0.  0.  0.]]\n",
      "\n",
      " [[ 0.  0.  0.]\n",
      "  [ 0.  0.  0.]\n",
      "  [ 0.  0.  0.]\n",
      "  ..., \n",
      "  [ 0.  0.  0.]\n",
      "  [ 0.  0.  0.]\n",
      "  [ 0.  0.  0.]]\n",
      "\n",
      " [[ 0.  0.  0.]\n",
      "  [ 0.  0.  0.]\n",
      "  [ 0.  0.  0.]\n",
      "  ..., \n",
      "  [ 0.  0.  0.]\n",
      "  [ 0.  0.  0.]\n",
      "  [ 0.  0.  0.]]\n",
      "\n",
      " ..., \n",
      " [[ 0.  0.  0.]\n",
      "  [ 0.  0.  0.]\n",
      "  [ 0.  0.  0.]\n",
      "  ..., \n",
      "  [ 0.  0.  0.]\n",
      "  [ 0.  0.  0.]\n",
      "  [ 0.  0.  0.]]\n",
      "\n",
      " [[ 0.  0.  0.]\n",
      "  [ 0.  0.  0.]\n",
      "  [ 0.  0.  0.]\n",
      "  ..., \n",
      "  [ 0.  0.  0.]\n",
      "  [ 0.  0.  0.]\n",
      "  [ 0.  0.  0.]]\n",
      "\n",
      " [[ 0.  0.  0.]\n",
      "  [ 0.  0.  0.]\n",
      "  [ 0.  0.  0.]\n",
      "  ..., \n",
      "  [ 0.  0.  0.]\n",
      "  [ 0.  0.  0.]\n",
      "  [ 0.  0.  0.]]]\n"
     ]
    }
   ],
   "source": [
    "env = gym.make(\"CarRacing-v0\")\n",
    "print(env.action_space)\n",
    "print(env.action_space.high)\n",
    "print(env.action_space.low)\n",
    "print(env.observation_space)\n",
    "print(env.observation_space.high)\n",
    "print(env.observation_space.low)"
   ]
  },
  {
   "cell_type": "code",
   "execution_count": null,
   "metadata": {
    "collapsed": true
   },
   "outputs": [],
   "source": []
  }
 ],
 "metadata": {
  "kernelspec": {
   "display_name": "Python [conda root]",
   "language": "python",
   "name": "conda-root-py"
  },
  "language_info": {
   "codemirror_mode": {
    "name": "ipython",
    "version": 3
   },
   "file_extension": ".py",
   "mimetype": "text/x-python",
   "name": "python",
   "nbconvert_exporter": "python",
   "pygments_lexer": "ipython3",
   "version": "3.5.2"
  }
 },
 "nbformat": 4,
 "nbformat_minor": 2
}
